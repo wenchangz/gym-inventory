{
 "cells": [
  {
   "cell_type": "code",
   "execution_count": 4,
   "id": "suburban-cylinder",
   "metadata": {},
   "outputs": [],
   "source": [
    "import gym\n",
    "import numpy as np\n",
    "import inventory_model\n",
    "from evaluate import *"
   ]
  },
  {
   "cell_type": "code",
   "execution_count": 5,
   "id": "veterinary-robin",
   "metadata": {},
   "outputs": [],
   "source": [
    "CONFIG = {'h': 1, 'p': 1, 'L': 10, 'max_demand': 6, 'max_inventory': 12}"
   ]
  },
  {
   "cell_type": "code",
   "execution_count": 6,
   "id": "finished-november",
   "metadata": {
    "scrolled": true
   },
   "outputs": [],
   "source": [
    "env = gym.make('inventory_model-v0', config=CONFIG)"
   ]
  },
  {
   "cell_type": "code",
   "execution_count": 7,
   "id": "expensive-offering",
   "metadata": {},
   "outputs": [
    {
     "name": "stdout",
     "output_type": "stream",
     "text": [
      "[0 0 0 0 0 0 0 0 0 0 0]\n",
      "Discrete(13)\n",
      "MultiDiscrete([13 13 13 13 13 13 13 13 13 13 13])\n"
     ]
    }
   ],
   "source": [
    "print(env.state)\n",
    "print(env.action_space)\n",
    "print(env.observation_space) # openAI calles states observations :/"
   ]
  },
  {
   "cell_type": "code",
   "execution_count": 8,
   "id": "polish-level",
   "metadata": {},
   "outputs": [
    {
     "name": "stdout",
     "output_type": "stream",
     "text": [
      "(array([0, 0, 0, 0, 0, 0, 0, 0, 0, 0, 1]), -3)\n",
      "***\n"
     ]
    }
   ],
   "source": [
    "env.state = np.array([0]*(CONFIG['L']+1))\n",
    "print(env.step(1))\n",
    "print('***')"
   ]
  },
  {
   "cell_type": "markdown",
   "id": "southwest-allowance",
   "metadata": {},
   "source": [
    "The following cell defines the random policy model and the constant policy model, and then calls the evaluate function."
   ]
  },
  {
   "cell_type": "code",
   "execution_count": 15,
   "id": "objective-argument",
   "metadata": {},
   "outputs": [],
   "source": [
    "def random_model(env):\n",
    "    def policy(state):\n",
    "        return env.action_space.sample()\n",
    "    return policy"
   ]
  },
  {
   "cell_type": "code",
   "execution_count": 16,
   "id": "impressed-netscape",
   "metadata": {},
   "outputs": [],
   "source": [
    "def constant_model(env):\n",
    "    def policy(state):\n",
    "        return 2\n",
    "    return policy"
   ]
  },
  {
   "cell_type": "code",
   "execution_count": 17,
   "id": "certified-document",
   "metadata": {},
   "outputs": [
    {
     "name": "stdout",
     "output_type": "stream",
     "text": [
      "random policy\n",
      "mean:  -11.074575\n",
      "standard deviation: 0.012475000000000236\n",
      "constant policy\n",
      "mean:  -1.319375\n",
      "standard deviation: 0.0007749999999999702\n"
     ]
    }
   ],
   "source": [
    "numiter = 20000\n",
    "print ('random policy:')\n",
    "evaluate(random_model, env, numiter)\n",
    "print ('constant policy:')\n",
    "evaluate(constant_model, env, numiter)"
   ]
  }
 ],
 "metadata": {
  "kernelspec": {
   "display_name": "Python 3",
   "language": "python",
   "name": "python3"
  },
  "language_info": {
   "codemirror_mode": {
    "name": "ipython",
    "version": 3
   },
   "file_extension": ".py",
   "mimetype": "text/x-python",
   "name": "python",
   "nbconvert_exporter": "python",
   "pygments_lexer": "ipython3",
   "version": "3.7.10"
  }
 },
 "nbformat": 4,
 "nbformat_minor": 5
}
