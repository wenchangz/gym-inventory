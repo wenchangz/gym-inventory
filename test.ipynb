{
 "cells": [
  {
   "cell_type": "code",
   "execution_count": 45,
   "id": "suburban-cylinder",
   "metadata": {},
   "outputs": [],
   "source": [
    "import gym\n",
    "import numpy as np\n",
    "import inventory_model\n",
    "from evaluate import *"
   ]
  },
  {
   "cell_type": "code",
   "execution_count": 46,
   "id": "veterinary-robin",
   "metadata": {},
   "outputs": [],
   "source": [
    "CONFIG = {'h': 1, 'p': 1, 'L': 10, 'max_demand': 6, 'max_inventory': 12}"
   ]
  },
  {
   "cell_type": "code",
   "execution_count": 47,
   "id": "finished-november",
   "metadata": {
    "scrolled": true
   },
   "outputs": [],
   "source": [
    "env = gym.make('inventory_model-v0', config=CONFIG)"
   ]
  },
  {
   "cell_type": "code",
   "execution_count": 48,
   "id": "expensive-offering",
   "metadata": {},
   "outputs": [
    {
     "output_type": "stream",
     "name": "stdout",
     "text": [
      "[0 0 0 0 0 0 0 0 0 0 0]\nDiscrete(13)\nMultiDiscrete([13 13 13 13 13 13 13 13 13 13 13])\n"
     ]
    }
   ],
   "source": [
    "print(env.state)\n",
    "print(env.action_space)\n",
    "print(env.observation_space) # openAI calles states observations :/"
   ]
  },
  {
   "cell_type": "code",
   "execution_count": 49,
   "metadata": {},
   "outputs": [
    {
     "output_type": "stream",
     "name": "stdout",
     "text": [
      "(array([0, 0, 0, 0, 0, 0, 0, 0, 0, 0, 1]), -4)\n***\n"
     ]
    }
   ],
   "source": [
    "env.state = np.array([0]*(CONFIG['L']+1))\n",
    "print(env.step(1))\n",
    "print('***')"
   ]
  },
  {
   "source": [
    "The following cell defines the random policy model, and then calls the evaluate function."
   ],
   "cell_type": "markdown",
   "metadata": {}
  },
  {
   "cell_type": "code",
   "execution_count": 50,
   "metadata": {},
   "outputs": [],
   "source": [
    "def random_model(env):\n",
    "    def policy(state):\n",
    "        return env.action_space.sample()\n",
    "    return policy"
   ]
  },
  {
   "cell_type": "code",
   "execution_count": 60,
   "metadata": {},
   "outputs": [
    {
     "output_type": "stream",
     "name": "stdout",
     "text": [
      "mean:  -11.025153999999999\nstandard deviation: 0.07054074910291218\n"
     ]
    }
   ],
   "source": [
    "numiter = 2000\n",
    "evaluate(random_model, env, numiter)"
   ]
  }
 ],
 "metadata": {
  "kernelspec": {
   "name": "python385jvsc74a57bd0400ed83044f7563fd7639db7272bee8996ca0c865b5d449dcecadc3765d7cb7d",
   "display_name": "Python 3.8.5 64-bit ('base': conda)"
  },
  "language_info": {
   "codemirror_mode": {
    "name": "ipython",
    "version": 3
   },
   "file_extension": ".py",
   "mimetype": "text/x-python",
   "name": "python",
   "nbconvert_exporter": "python",
   "pygments_lexer": "ipython3",
   "version": "3.8.5-final"
  }
 },
 "nbformat": 4,
 "nbformat_minor": 5
}