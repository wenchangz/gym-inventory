{
 "cells": [
  {
   "cell_type": "code",
   "execution_count": 40,
   "id": "suburban-cylinder",
   "metadata": {},
   "outputs": [],
   "source": [
    "import gym\n",
    "import numpy as np\n",
    "import inventory_model\n",
    "from evaluate import *"
   ]
  },
  {
   "cell_type": "code",
   "execution_count": 54,
   "id": "veterinary-robin",
   "metadata": {},
   "outputs": [],
   "source": [
    "CONFIG = {'h': 1, 'p': 1, 'L': 10, 'max_demand': 6, 'max_inventory': 100}"
   ]
  },
  {
   "cell_type": "code",
   "execution_count": 55,
   "id": "finished-november",
   "metadata": {
    "scrolled": true
   },
   "outputs": [],
   "source": [
    "env = gym.make('inventory_model-v0', config=CONFIG)"
   ]
  },
  {
   "cell_type": "code",
   "execution_count": 56,
   "id": "expensive-offering",
   "metadata": {},
   "outputs": [
    {
     "name": "stdout",
     "output_type": "stream",
     "text": [
      "[0 0 0 0 0 0 0 0 0 0 0]\n",
      "Discrete(101)\n",
      "MultiDiscrete([101 101 101 101 101 101 101 101 101 101 101])\n"
     ]
    }
   ],
   "source": [
    "print(env.state)\n",
    "print(env.action_space)\n",
    "print(env.observation_space) # openAI calles states observations :/"
   ]
  },
  {
   "cell_type": "code",
   "execution_count": 57,
   "id": "polish-level",
   "metadata": {},
   "outputs": [
    {
     "name": "stdout",
     "output_type": "stream",
     "text": [
      "(array([0, 0, 0, 0, 0, 0, 0, 0, 0, 0, 1]), -2)\n",
      "***\n"
     ]
    }
   ],
   "source": [
    "env.state = np.array([0]*(CONFIG['L']+1))\n",
    "print(env.step(1))\n",
    "print('***')"
   ]
  },
  {
   "cell_type": "markdown",
   "id": "southwest-allowance",
   "metadata": {},
   "source": [
    "The following cell defines the random policy model and the constant policy model, and then calls the evaluate function. When ordering constant 1 or 2, the policy is stable."
   ]
  },
  {
   "cell_type": "code",
   "execution_count": 58,
   "id": "objective-argument",
   "metadata": {},
   "outputs": [],
   "source": [
    "def random_model(env):\n",
    "    def policy(state):\n",
    "        return env.action_space.sample()\n",
    "    return policy"
   ]
  },
  {
   "cell_type": "code",
   "execution_count": 66,
   "id": "certified-document",
   "metadata": {},
   "outputs": [
    {
     "name": "stdout",
     "output_type": "stream",
     "text": [
      "random policy:\n",
      "mean:  -99.92593\n",
      "standard deviation: 0.0007699999999957186\n",
      "constant 1 order policy:\n",
      "mean:  -2.032005\n",
      "standard deviation: 0.0009300000000000974\n",
      "constant 2 order policy:\n",
      "mean:  -1.32923\n",
      "standard deviation: 0.0008724999999999428\n",
      "constant 3 order policy:\n",
      "mean:  -51.7224225\n",
      "standard deviation: 2.4999049999999983\n",
      "constant 4 order policy:\n",
      "mean:  -99.75847999999999\n",
      "standard deviation: 0.00018999999999635975\n",
      "constant 5 order policy:\n",
      "mean:  -99.97429\n",
      "standard deviation: 2.5000000000829914e-05\n"
     ]
    }
   ],
   "source": [
    "numiter = 400000\n",
    "print ('random policy:')\n",
    "evaluate(random_model, env, numiter)\n",
    "for i in range(1,6):\n",
    "    def constant_model(env):\n",
    "        def policy(state):\n",
    "            return i\n",
    "        return policy\n",
    "    print ('constant %s order policy:' %i)\n",
    "    evaluate(constant_model, env, numiter)"
   ]
  }
 ],
 "metadata": {
  "kernelspec": {
   "display_name": "Python 3",
   "language": "python",
   "name": "python3"
  },
  "language_info": {
   "codemirror_mode": {
    "name": "ipython",
    "version": 3
   },
   "file_extension": ".py",
   "mimetype": "text/x-python",
   "name": "python",
   "nbconvert_exporter": "python",
   "pygments_lexer": "ipython3",
   "version": "3.7.10"
  }
 },
 "nbformat": 4,
 "nbformat_minor": 5
}
