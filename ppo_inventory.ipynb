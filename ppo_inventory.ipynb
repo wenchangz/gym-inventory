{
 "cells": [
  {
   "cell_type": "code",
   "execution_count": null,
   "id": "attended-immunology",
   "metadata": {},
   "outputs": [],
   "source": [
    "import gym\n",
    "import numpy as np\n",
    "import inventory_model\n",
    "import pandas as pd\n",
    "from evaluate import *\n",
    "from ppo_evaluate import ppo_evaluate\n",
    "\n",
    "\n",
    "from stable_baselines3 import PPO\n",
    "from stable_baselines3.ppo import MlpPolicy\n",
    "from stable_baselines3.common.env_util import make_vec_env"
   ]
  },
  {
   "cell_type": "code",
   "execution_count": null,
   "id": "increased-commodity",
   "metadata": {},
   "outputs": [],
   "source": [
    "import os\n",
    "os.environ['KMP_DUPLICATE_LIB_OK']='True'"
   ]
  },
  {
   "cell_type": "code",
   "execution_count": null,
   "id": "prime-acceptance",
   "metadata": {},
   "outputs": [],
   "source": [
    "#wrapper for continuous environment\n",
    "def ppo_eval(p, L, t_t, n_iter, learning_rate=0.0003):\n",
    "    ContCONFIG = {'h': 1, 'p': p, 'L': L, 'lambda': 1}\n",
    "    cont_env = make_vec_env('inventory_cont_config_model-v0', n_envs=4, env_kwargs=ContCONFIG)\n",
    "    print(\"Running PPO w/: p=\", p, \", L=\",L)\n",
    "    cont_model = PPO(MlpPolicy, cont_env, verbose=1, gamma = 1, learning_rate = learning_rate,use_sde = False)\n",
    "    cont_model.learn(total_timesteps=t_t)#testing 2000\n",
    "\n",
    "    cont_model.save(\"inv_cont_2\")\n",
    "    trained_model = PPO.load(\"inv_cont_2\")\n",
    "    env_eval = make_vec_env('inventory_cont_config_model-v0', n_envs=1, env_kwargs=ContCONFIG)\n",
    "    numiter = n_iter#test\n",
    "    res_mean, res_std = ppo_evaluate(trained_model, env_eval, numiter)\n",
    "    print(-res_mean,'+/=',1.96*res_std/np.sqrt(5)) \n",
    "\n",
    "    return res_mean, res_std"
   ]
  },
  {
   "cell_type": "code",
   "execution_count": null,
   "metadata": {
    "tags": [
     "outputPrepend"
    ]
   },
   "outputs": [],
   "source": [
    "# listp = [0.25,1,4,9,39,99]\n",
    "# listL = [1,4,10,20,30,50,70,100]\n",
    "listp = [39]\n",
    "listL = [1]\n",
    "t_t = 200000\n",
    "n_iter = 100000\n",
    "learning_rate = 0.005\n",
    "ppo_res = pd.DataFrame(columns = ['p','L','res_mean', 'res_std'])\n",
    "\n",
    "for p in listp:\n",
    "    for L in listL:\n",
    "        res_mean, res_std = ppo_eval(p,L,t_t, n_iter, learning_rate)\n",
    "        ppo_res = ppo_res.append({'p': p, 'L':L, 'res_mean':res_mean, 'res_std': res_std}, ignore_index=True)"
   ]
  },
  {
   "cell_type": "code",
   "execution_count": null,
   "metadata": {},
   "outputs": [],
   "source": [
    "ppo_res"
   ]
  },
  {
   "cell_type": "code",
   "execution_count": null,
   "metadata": {},
   "outputs": [],
   "source": [
    "#wrapper for cont env, plot result for several steps\n",
    "def ppo_eval_interval(p, L, t_t, n_iter, learning_rate=0.0003):\n",
    "    ContCONFIG = {'h': 1, 'p': p, 'L': L, 'lambda': 1}\n",
    "    cont_env = make_vec_env('inventory_cont_config_model-v0', n_envs=4, env_kwargs=ContCONFIG)\n",
    "    print(\"Running PPO w/: p=\", p, \", L=\",L)\n",
    "    cont_model = PPO(MlpPolicy, cont_env, verbose=1, gamma = 1, learning_rate = learning_rate,use_sde = False)\n",
    "    env_eval = make_vec_env('inventory_cont_config_model-v0', n_envs=1, env_kwargs=ContCONFIG)\n",
    "    timesteps = 0\n",
    "    numiter = n_iter#test\n",
    "    res_mean_arr = []\n",
    "    res_std_arr = []\n",
    "\n",
    "    while(timesteps <= t_t):\n",
    "\n",
    "        cont_model.learn(total_timesteps=8000)#testing 2000\n",
    "        timesteps = timesteps + 8192\n",
    "\n",
    "        res_mean, res_std = ppo_evaluate(cont_model, env_eval, numiter)\n",
    "        res_mean_arr.append(res_mean)\n",
    "        res_std_arr.append(res_std)\n",
    "    \n",
    "    plot(res_mean_arr)\n",
    "\n",
    "    return res_mean_arr, res_std_arr"
   ]
  },
  {
   "cell_type": "code",
   "execution_count": null,
   "metadata": {
    "tags": [
     "outputPrepend"
    ]
   },
   "outputs": [],
   "source": [
    "# listp = [0.25,1,4,9,39,99]\n",
    "# listL = [1,4,10,20,30,50,70,100]\n",
    "listp = [99]\n",
    "listL = [100]\n",
    "t_t = 2000000\n",
    "n_iter = 1000\n",
    "learning_rate = 0.003\n",
    "ppo_res = pd.DataFrame(columns = ['p','L','res_mean', 'res_std'])\n",
    "\n",
    "for p in listp:\n",
    "    for L in listL:\n",
    "        res_mean, res_std = ppo_eval_interval(p,L,t_t, n_iter, learning_rate)\n",
    "        ppo_res = ppo_res.append({'p': p, 'L':L, 'res_mean':res_mean, 'res_std': res_std}, ignore_index=True)"
   ]
  },
  {
   "cell_type": "code",
   "execution_count": null,
   "id": "animated-active",
   "metadata": {
    "tags": []
   },
   "outputs": [],
   "source": [
    "#continuous model try with cont action\n",
    "\n",
    "# #env = make_vec_env('inventory_cont_model-v0', ContCONFIG = {'h': 1, 'p': 1, 'L': 10, 'lambda': 1}, n_envs=4)\n",
    "# #how to set parameters???\n",
    "# cont_env = make_vec_env('inventory_cont_model-v0', n_envs=8)\n",
    "# cont_model = PPO(MlpPolicy, cont_env, verbose=1, gamma = 1)\n",
    "# cont_model.learn(total_timesteps=200000)\n",
    "# # fixed issue with vector, now action can be continuous\n",
    "\n",
    "# #continuous evaluation\n",
    "# cont_model.save(\"inv_cont_1\")\n",
    "# trained_model = PPO.load(\"inv_cont_1\")\n",
    "# env1 = gym.make('inventory_cont_model-v0')\n",
    "# numiter = 50000\n",
    "# res_mean, res_std = ppo_evaluate(trained_model, env1, numiter)\n",
    "# print(-res_mean,'+/=',1.96*res_std/np.sqrt(5)) "
   ]
  },
  {
   "cell_type": "code",
   "execution_count": null,
   "id": "sharing-light",
   "metadata": {},
   "outputs": [],
   "source": [
    "#Discrete environment\n",
    "#h=1,p=99,L=1,max_inventory=100,max_action=100,binomial(6,0.5)\n",
    "env = make_vec_env('inventory_model-v0', n_envs=4)\n",
    "model = PPO(MlpPolicy, env, verbose=1, gamma = 1)\n",
    "model.learn(total_timesteps=1000000)\n",
    "model.save(\"inv_2\")\n",
    "\n",
    "trained_model2 = PPO.load(\"inv_2\")\n",
    "env2 = gym.make('inventory_model-v0')\n",
    "numiter = 200000\n",
    "res_mean, res_std = ppo_evaluate(trained_model2, env2, numiter)\n",
    "print(-res_mean,'+/=',1.96*res_std/np.sqrt(5)) "
   ]
  },
  {
   "cell_type": "code",
   "execution_count": null,
   "id": "bigger-polymer",
   "metadata": {},
   "outputs": [],
   "source": [
    "#Discrete environment 2\n",
    "#h=1,p=99,L=1,max_inventory=100,max_action=6,binomial(6,0.5)\n",
    "env = make_vec_env('inventory_model-v0', n_envs=4)\n",
    "model = PPO(MlpPolicy, env, verbose=1, gamma = 1)\n",
    "model.learn(total_timesteps=1000000)\n",
    "model.save(\"inv_3\")\n",
    "\n",
    "#set action space to be small([0,1,2,3,4,5,6]) seems to get reasonable results...\n",
    "trained_model3 = PPO.load(\"inv_3\")\n",
    "env3 = gym.make('inventory_model-v0')\n",
    "numiter = 200000\n",
    "res_mean, res_std = ppo_evaluate(trained_model3, env3, numiter)\n",
    "print(-res_mean,'+/=',1.96*res_std/np.sqrt(5)) "
   ]
  }
 ],
 "metadata": {
  "kernelspec": {
   "name": "python385jvsc74a57bd0400ed83044f7563fd7639db7272bee8996ca0c865b5d449dcecadc3765d7cb7d",
   "display_name": "Python 3.8.5 64-bit ('base': conda)"
  },
  "language_info": {
   "codemirror_mode": {
    "name": "ipython",
    "version": 3
   },
   "file_extension": ".py",
   "mimetype": "text/x-python",
   "name": "python",
   "nbconvert_exporter": "python",
   "pygments_lexer": "ipython3",
   "version": "3.8.5"
  }
 },
 "nbformat": 4,
 "nbformat_minor": 5
}