{
 "cells": [
  {
   "cell_type": "code",
   "execution_count": 9,
   "id": "attended-immunology",
   "metadata": {},
   "outputs": [],
   "source": [
    "import gym\n",
    "import numpy as np\n",
    "import inventory_model\n",
    "import pandas as pd\n",
    "from evaluate import *\n",
    "from ppo_evaluate import ppo_evaluate\n",
    "\n",
    "\n",
    "from stable_baselines3 import PPO\n",
    "from stable_baselines3.ppo import MlpPolicy\n",
    "from stable_baselines3.common.env_util import make_vec_env"
   ]
  },
  {
   "cell_type": "code",
   "execution_count": 11,
   "id": "increased-commodity",
   "metadata": {},
   "outputs": [],
   "source": [
    "import os\n",
    "os.environ['KMP_DUPLICATE_LIB_OK']='True'"
   ]
  },
  {
   "cell_type": "code",
   "execution_count": 35,
   "id": "prime-acceptance",
   "metadata": {},
   "outputs": [],
   "source": [
    "def ppo_eval(p, L, t_t, n_iter):\n",
    "    ContCONFIG = {'h': 1, 'p': p, 'L': L, 'lambda': 1}\n",
    "    cont_env = make_vec_env('inventory_cont_config_model-v0', n_envs=8, env_kwargs=ContCONFIG)\n",
    "    print(\"Running PPO w/: p=\", p, \", L=\",L)\n",
    "    cont_model = PPO(MlpPolicy, cont_env, verbose=1, gamma = 1)\n",
    "    cont_model.learn(total_timesteps=t_t)#testing 2000\n",
    "\n",
    "    cont_model.save(\"inv_cont_2\")\n",
    "    trained_model = PPO.load(\"inv_cont_2\")\n",
    "    env_eval = make_vec_env('inventory_cont_config_model-v0', n_envs=1, env_kwargs=ContCONFIG)\n",
    "    numiter = n_iter#test\n",
    "    res_mean, res_std = ppo_evaluate(trained_model, env_eval, numiter)\n",
    "    print(-res_mean,'+/=',1.96*res_std/np.sqrt(5)) \n",
    "\n",
    "    return res_mean, res_std"
   ]
  },
  {
   "cell_type": "code",
   "execution_count": 37,
   "metadata": {
    "tags": []
   },
   "outputs": [
    {
     "output_type": "stream",
     "name": "stdout",
     "text": [
      "Running PPO w/: p= 0.25 , L= 1\n",
      "Using cpu device\n",
      "------------------------------------------\n",
      "| time/                   |              |\n",
      "|    fps                  | 10401        |\n",
      "|    iterations           | 1            |\n",
      "|    time_elapsed         | 1            |\n",
      "|    total_timesteps      | 16384        |\n",
      "| train/                  |              |\n",
      "|    approx_kl            | 0.0004953145 |\n",
      "|    clip_fraction        | 4.88e-05     |\n",
      "|    clip_range           | 0.2          |\n",
      "|    entropy_loss         | -1.42        |\n",
      "|    explained_variance   | -5.72e-05    |\n",
      "|    learning_rate        | 0.0003       |\n",
      "|    loss                 | 1.52e+06     |\n",
      "|    n_updates            | 10           |\n",
      "|    policy_gradient_loss | -0.000879    |\n",
      "|    std                  | 0.996        |\n",
      "|    value_loss           | 3.14e+06     |\n",
      "------------------------------------------\n"
     ]
    },
    {
     "output_type": "error",
     "ename": "KeyboardInterrupt",
     "evalue": "",
     "traceback": [
      "\u001b[0;31m---------------------------------------------------------------------------\u001b[0m",
      "\u001b[0;31mKeyboardInterrupt\u001b[0m                         Traceback (most recent call last)",
      "\u001b[0;32m<ipython-input-37-d0643bd8bdd6>\u001b[0m in \u001b[0;36m<module>\u001b[0;34m\u001b[0m\n\u001b[1;32m      7\u001b[0m \u001b[0;32mfor\u001b[0m \u001b[0mp\u001b[0m \u001b[0;32min\u001b[0m \u001b[0mlistp\u001b[0m\u001b[0;34m:\u001b[0m\u001b[0;34m\u001b[0m\u001b[0;34m\u001b[0m\u001b[0m\n\u001b[1;32m      8\u001b[0m     \u001b[0;32mfor\u001b[0m \u001b[0mL\u001b[0m \u001b[0;32min\u001b[0m \u001b[0mlistL\u001b[0m\u001b[0;34m:\u001b[0m\u001b[0;34m\u001b[0m\u001b[0;34m\u001b[0m\u001b[0m\n\u001b[0;32m----> 9\u001b[0;31m         \u001b[0mres_mean\u001b[0m\u001b[0;34m,\u001b[0m \u001b[0mres_std\u001b[0m \u001b[0;34m=\u001b[0m \u001b[0mppo_eval\u001b[0m\u001b[0;34m(\u001b[0m\u001b[0mp\u001b[0m\u001b[0;34m,\u001b[0m\u001b[0mL\u001b[0m\u001b[0;34m,\u001b[0m\u001b[0mt_t\u001b[0m\u001b[0;34m,\u001b[0m \u001b[0mn_iter\u001b[0m\u001b[0;34m)\u001b[0m\u001b[0;34m\u001b[0m\u001b[0;34m\u001b[0m\u001b[0m\n\u001b[0m\u001b[1;32m     10\u001b[0m         \u001b[0mppo_res\u001b[0m \u001b[0;34m=\u001b[0m \u001b[0mppo_res\u001b[0m\u001b[0;34m.\u001b[0m\u001b[0mappend\u001b[0m\u001b[0;34m(\u001b[0m\u001b[0;34m{\u001b[0m\u001b[0;34m'p'\u001b[0m\u001b[0;34m:\u001b[0m \u001b[0mp\u001b[0m\u001b[0;34m,\u001b[0m \u001b[0;34m'L'\u001b[0m\u001b[0;34m:\u001b[0m\u001b[0mL\u001b[0m\u001b[0;34m,\u001b[0m \u001b[0;34m'res_mean'\u001b[0m\u001b[0;34m:\u001b[0m\u001b[0mres_mean\u001b[0m\u001b[0;34m,\u001b[0m \u001b[0;34m'res_std'\u001b[0m\u001b[0;34m:\u001b[0m \u001b[0mres_std\u001b[0m\u001b[0;34m}\u001b[0m\u001b[0;34m,\u001b[0m \u001b[0mignore_index\u001b[0m\u001b[0;34m=\u001b[0m\u001b[0;32mTrue\u001b[0m\u001b[0;34m)\u001b[0m\u001b[0;34m\u001b[0m\u001b[0;34m\u001b[0m\u001b[0m\n",
      "\u001b[0;32m<ipython-input-35-4d5953a06d7d>\u001b[0m in \u001b[0;36mppo_eval\u001b[0;34m(p, L, t_t, n_iter)\u001b[0m\n\u001b[1;32m      4\u001b[0m     \u001b[0mprint\u001b[0m\u001b[0;34m(\u001b[0m\u001b[0;34m\"Running PPO w/: p=\"\u001b[0m\u001b[0;34m,\u001b[0m \u001b[0mp\u001b[0m\u001b[0;34m,\u001b[0m \u001b[0;34m\", L=\"\u001b[0m\u001b[0;34m,\u001b[0m\u001b[0mL\u001b[0m\u001b[0;34m)\u001b[0m\u001b[0;34m\u001b[0m\u001b[0;34m\u001b[0m\u001b[0m\n\u001b[1;32m      5\u001b[0m     \u001b[0mcont_model\u001b[0m \u001b[0;34m=\u001b[0m \u001b[0mPPO\u001b[0m\u001b[0;34m(\u001b[0m\u001b[0mMlpPolicy\u001b[0m\u001b[0;34m,\u001b[0m \u001b[0mcont_env\u001b[0m\u001b[0;34m,\u001b[0m \u001b[0mverbose\u001b[0m\u001b[0;34m=\u001b[0m\u001b[0;36m1\u001b[0m\u001b[0;34m,\u001b[0m \u001b[0mgamma\u001b[0m \u001b[0;34m=\u001b[0m \u001b[0;36m1\u001b[0m\u001b[0;34m)\u001b[0m\u001b[0;34m\u001b[0m\u001b[0;34m\u001b[0m\u001b[0m\n\u001b[0;32m----> 6\u001b[0;31m     \u001b[0mcont_model\u001b[0m\u001b[0;34m.\u001b[0m\u001b[0mlearn\u001b[0m\u001b[0;34m(\u001b[0m\u001b[0mtotal_timesteps\u001b[0m\u001b[0;34m=\u001b[0m\u001b[0mt_t\u001b[0m\u001b[0;34m)\u001b[0m\u001b[0;31m#testing 2000\u001b[0m\u001b[0;34m\u001b[0m\u001b[0;34m\u001b[0m\u001b[0m\n\u001b[0m\u001b[1;32m      7\u001b[0m \u001b[0;34m\u001b[0m\u001b[0m\n\u001b[1;32m      8\u001b[0m     \u001b[0mcont_model\u001b[0m\u001b[0;34m.\u001b[0m\u001b[0msave\u001b[0m\u001b[0;34m(\u001b[0m\u001b[0;34m\"inv_cont_2\"\u001b[0m\u001b[0;34m)\u001b[0m\u001b[0;34m\u001b[0m\u001b[0;34m\u001b[0m\u001b[0m\n",
      "\u001b[0;32m~/anaconda3/lib/python3.8/site-packages/stable_baselines3/ppo/ppo.py\u001b[0m in \u001b[0;36mlearn\u001b[0;34m(self, total_timesteps, callback, log_interval, eval_env, eval_freq, n_eval_episodes, tb_log_name, eval_log_path, reset_num_timesteps)\u001b[0m\n\u001b[1;32m    278\u001b[0m     ) -> \"PPO\":\n\u001b[1;32m    279\u001b[0m \u001b[0;34m\u001b[0m\u001b[0m\n\u001b[0;32m--> 280\u001b[0;31m         return super(PPO, self).learn(\n\u001b[0m\u001b[1;32m    281\u001b[0m             \u001b[0mtotal_timesteps\u001b[0m\u001b[0;34m=\u001b[0m\u001b[0mtotal_timesteps\u001b[0m\u001b[0;34m,\u001b[0m\u001b[0;34m\u001b[0m\u001b[0;34m\u001b[0m\u001b[0m\n\u001b[1;32m    282\u001b[0m             \u001b[0mcallback\u001b[0m\u001b[0;34m=\u001b[0m\u001b[0mcallback\u001b[0m\u001b[0;34m,\u001b[0m\u001b[0;34m\u001b[0m\u001b[0;34m\u001b[0m\u001b[0m\n",
      "\u001b[0;32m~/anaconda3/lib/python3.8/site-packages/stable_baselines3/common/on_policy_algorithm.py\u001b[0m in \u001b[0;36mlearn\u001b[0;34m(self, total_timesteps, callback, log_interval, eval_env, eval_freq, n_eval_episodes, tb_log_name, eval_log_path, reset_num_timesteps)\u001b[0m\n\u001b[1;32m    245\u001b[0m                 \u001b[0mlogger\u001b[0m\u001b[0;34m.\u001b[0m\u001b[0mdump\u001b[0m\u001b[0;34m(\u001b[0m\u001b[0mstep\u001b[0m\u001b[0;34m=\u001b[0m\u001b[0mself\u001b[0m\u001b[0;34m.\u001b[0m\u001b[0mnum_timesteps\u001b[0m\u001b[0;34m)\u001b[0m\u001b[0;34m\u001b[0m\u001b[0;34m\u001b[0m\u001b[0m\n\u001b[1;32m    246\u001b[0m \u001b[0;34m\u001b[0m\u001b[0m\n\u001b[0;32m--> 247\u001b[0;31m             \u001b[0mself\u001b[0m\u001b[0;34m.\u001b[0m\u001b[0mtrain\u001b[0m\u001b[0;34m(\u001b[0m\u001b[0;34m)\u001b[0m\u001b[0;34m\u001b[0m\u001b[0;34m\u001b[0m\u001b[0m\n\u001b[0m\u001b[1;32m    248\u001b[0m \u001b[0;34m\u001b[0m\u001b[0m\n\u001b[1;32m    249\u001b[0m         \u001b[0mcallback\u001b[0m\u001b[0;34m.\u001b[0m\u001b[0mon_training_end\u001b[0m\u001b[0;34m(\u001b[0m\u001b[0;34m)\u001b[0m\u001b[0;34m\u001b[0m\u001b[0;34m\u001b[0m\u001b[0m\n",
      "\u001b[0;32m~/anaconda3/lib/python3.8/site-packages/stable_baselines3/ppo/ppo.py\u001b[0m in \u001b[0;36mtrain\u001b[0;34m(self)\u001b[0m\n\u001b[1;32m    177\u001b[0m             \u001b[0mapprox_kl_divs\u001b[0m \u001b[0;34m=\u001b[0m \u001b[0;34m[\u001b[0m\u001b[0;34m]\u001b[0m\u001b[0;34m\u001b[0m\u001b[0;34m\u001b[0m\u001b[0m\n\u001b[1;32m    178\u001b[0m             \u001b[0;31m# Do a complete pass on the rollout buffer\u001b[0m\u001b[0;34m\u001b[0m\u001b[0;34m\u001b[0m\u001b[0;34m\u001b[0m\u001b[0m\n\u001b[0;32m--> 179\u001b[0;31m             \u001b[0;32mfor\u001b[0m \u001b[0mrollout_data\u001b[0m \u001b[0;32min\u001b[0m \u001b[0mself\u001b[0m\u001b[0;34m.\u001b[0m\u001b[0mrollout_buffer\u001b[0m\u001b[0;34m.\u001b[0m\u001b[0mget\u001b[0m\u001b[0;34m(\u001b[0m\u001b[0mself\u001b[0m\u001b[0;34m.\u001b[0m\u001b[0mbatch_size\u001b[0m\u001b[0;34m)\u001b[0m\u001b[0;34m:\u001b[0m\u001b[0;34m\u001b[0m\u001b[0;34m\u001b[0m\u001b[0m\n\u001b[0m\u001b[1;32m    180\u001b[0m                 \u001b[0mactions\u001b[0m \u001b[0;34m=\u001b[0m \u001b[0mrollout_data\u001b[0m\u001b[0;34m.\u001b[0m\u001b[0mactions\u001b[0m\u001b[0;34m\u001b[0m\u001b[0;34m\u001b[0m\u001b[0m\n\u001b[1;32m    181\u001b[0m                 \u001b[0;32mif\u001b[0m \u001b[0misinstance\u001b[0m\u001b[0;34m(\u001b[0m\u001b[0mself\u001b[0m\u001b[0;34m.\u001b[0m\u001b[0maction_space\u001b[0m\u001b[0;34m,\u001b[0m \u001b[0mspaces\u001b[0m\u001b[0;34m.\u001b[0m\u001b[0mDiscrete\u001b[0m\u001b[0;34m)\u001b[0m\u001b[0;34m:\u001b[0m\u001b[0;34m\u001b[0m\u001b[0;34m\u001b[0m\u001b[0m\n",
      "\u001b[0;32m~/anaconda3/lib/python3.8/site-packages/stable_baselines3/common/buffers.py\u001b[0m in \u001b[0;36mget\u001b[0;34m(self, batch_size)\u001b[0m\n\u001b[1;32m    389\u001b[0m         \u001b[0mstart_idx\u001b[0m \u001b[0;34m=\u001b[0m \u001b[0;36m0\u001b[0m\u001b[0;34m\u001b[0m\u001b[0;34m\u001b[0m\u001b[0m\n\u001b[1;32m    390\u001b[0m         \u001b[0;32mwhile\u001b[0m \u001b[0mstart_idx\u001b[0m \u001b[0;34m<\u001b[0m \u001b[0mself\u001b[0m\u001b[0;34m.\u001b[0m\u001b[0mbuffer_size\u001b[0m \u001b[0;34m*\u001b[0m \u001b[0mself\u001b[0m\u001b[0;34m.\u001b[0m\u001b[0mn_envs\u001b[0m\u001b[0;34m:\u001b[0m\u001b[0;34m\u001b[0m\u001b[0;34m\u001b[0m\u001b[0m\n\u001b[0;32m--> 391\u001b[0;31m             \u001b[0;32myield\u001b[0m \u001b[0mself\u001b[0m\u001b[0;34m.\u001b[0m\u001b[0m_get_samples\u001b[0m\u001b[0;34m(\u001b[0m\u001b[0mindices\u001b[0m\u001b[0;34m[\u001b[0m\u001b[0mstart_idx\u001b[0m \u001b[0;34m:\u001b[0m \u001b[0mstart_idx\u001b[0m \u001b[0;34m+\u001b[0m \u001b[0mbatch_size\u001b[0m\u001b[0;34m]\u001b[0m\u001b[0;34m)\u001b[0m\u001b[0;34m\u001b[0m\u001b[0;34m\u001b[0m\u001b[0m\n\u001b[0m\u001b[1;32m    392\u001b[0m             \u001b[0mstart_idx\u001b[0m \u001b[0;34m+=\u001b[0m \u001b[0mbatch_size\u001b[0m\u001b[0;34m\u001b[0m\u001b[0;34m\u001b[0m\u001b[0m\n\u001b[1;32m    393\u001b[0m \u001b[0;34m\u001b[0m\u001b[0m\n",
      "\u001b[0;32m~/anaconda3/lib/python3.8/site-packages/stable_baselines3/common/buffers.py\u001b[0m in \u001b[0;36m_get_samples\u001b[0;34m(self, batch_inds, env)\u001b[0m\n\u001b[1;32m    401\u001b[0m             \u001b[0mself\u001b[0m\u001b[0;34m.\u001b[0m\u001b[0mreturns\u001b[0m\u001b[0;34m[\u001b[0m\u001b[0mbatch_inds\u001b[0m\u001b[0;34m]\u001b[0m\u001b[0;34m.\u001b[0m\u001b[0mflatten\u001b[0m\u001b[0;34m(\u001b[0m\u001b[0;34m)\u001b[0m\u001b[0;34m,\u001b[0m\u001b[0;34m\u001b[0m\u001b[0;34m\u001b[0m\u001b[0m\n\u001b[1;32m    402\u001b[0m         )\n\u001b[0;32m--> 403\u001b[0;31m         \u001b[0;32mreturn\u001b[0m \u001b[0mRolloutBufferSamples\u001b[0m\u001b[0;34m(\u001b[0m\u001b[0;34m*\u001b[0m\u001b[0mtuple\u001b[0m\u001b[0;34m(\u001b[0m\u001b[0mmap\u001b[0m\u001b[0;34m(\u001b[0m\u001b[0mself\u001b[0m\u001b[0;34m.\u001b[0m\u001b[0mto_torch\u001b[0m\u001b[0;34m,\u001b[0m \u001b[0mdata\u001b[0m\u001b[0;34m)\u001b[0m\u001b[0;34m)\u001b[0m\u001b[0;34m)\u001b[0m\u001b[0;34m\u001b[0m\u001b[0;34m\u001b[0m\u001b[0m\n\u001b[0m",
      "\u001b[0;32m~/anaconda3/lib/python3.8/site-packages/stable_baselines3/common/buffers.py\u001b[0m in \u001b[0;36mto_torch\u001b[0;34m(self, array, copy)\u001b[0m\n\u001b[1;32m    126\u001b[0m         \"\"\"\n\u001b[1;32m    127\u001b[0m         \u001b[0;32mif\u001b[0m \u001b[0mcopy\u001b[0m\u001b[0;34m:\u001b[0m\u001b[0;34m\u001b[0m\u001b[0;34m\u001b[0m\u001b[0m\n\u001b[0;32m--> 128\u001b[0;31m             \u001b[0;32mreturn\u001b[0m \u001b[0mth\u001b[0m\u001b[0;34m.\u001b[0m\u001b[0mtensor\u001b[0m\u001b[0;34m(\u001b[0m\u001b[0marray\u001b[0m\u001b[0;34m)\u001b[0m\u001b[0;34m.\u001b[0m\u001b[0mto\u001b[0m\u001b[0;34m(\u001b[0m\u001b[0mself\u001b[0m\u001b[0;34m.\u001b[0m\u001b[0mdevice\u001b[0m\u001b[0;34m)\u001b[0m\u001b[0;34m\u001b[0m\u001b[0;34m\u001b[0m\u001b[0m\n\u001b[0m\u001b[1;32m    129\u001b[0m         \u001b[0;32mreturn\u001b[0m \u001b[0mth\u001b[0m\u001b[0;34m.\u001b[0m\u001b[0mas_tensor\u001b[0m\u001b[0;34m(\u001b[0m\u001b[0marray\u001b[0m\u001b[0;34m)\u001b[0m\u001b[0;34m.\u001b[0m\u001b[0mto\u001b[0m\u001b[0;34m(\u001b[0m\u001b[0mself\u001b[0m\u001b[0;34m.\u001b[0m\u001b[0mdevice\u001b[0m\u001b[0;34m)\u001b[0m\u001b[0;34m\u001b[0m\u001b[0;34m\u001b[0m\u001b[0m\n\u001b[1;32m    130\u001b[0m \u001b[0;34m\u001b[0m\u001b[0m\n",
      "\u001b[0;31mKeyboardInterrupt\u001b[0m: "
     ]
    }
   ],
   "source": [
    "listp = [0.25,1,4,9,39,99]\n",
    "listL = [1,4,10,20,30,50,70,100]\n",
    "t_t = 200000\n",
    "n_iter = 50000\n",
    "ppo_res = pd.DataFrame(columns = ['p','L','res_mean', 'res_std'])\n",
    "\n",
    "for p in listp:\n",
    "    for L in listL:\n",
    "        res_mean, res_std = ppo_eval(p,L,t_t, n_iter)\n",
    "        ppo_res = ppo_res.append({'p': p, 'L':L, 'res_mean':res_mean, 'res_std': res_std}, ignore_index=True)"
   ]
  },
  {
   "cell_type": "code",
   "execution_count": 34,
   "metadata": {},
   "outputs": [
    {
     "output_type": "execute_result",
     "data": {
      "text/plain": [
       "        p      L    res_mean    res_std\n",
       "0    0.25    1.0   -0.266697   0.039537\n",
       "1    0.25    4.0   -0.224051   0.016760\n",
       "2    0.25   10.0   -0.257662   0.019421\n",
       "3    0.25   20.0   -0.241807   0.022766\n",
       "4    0.25   30.0   -0.251493   0.024331\n",
       "5    0.25   50.0   -0.301303   0.041520\n",
       "6    0.25   70.0   -0.253412   0.046970\n",
       "7    0.25  100.0   -0.253412   0.025594\n",
       "8    1.00    1.0   -0.826356   0.093646\n",
       "9    1.00    4.0   -0.823574   0.063262\n",
       "10   1.00   10.0   -0.924262   0.180464\n",
       "11   1.00   20.0   -0.972703   0.149878\n",
       "12   1.00   30.0   -1.025079   0.123373\n",
       "13   1.00   50.0   -1.038063   0.125563\n",
       "14   1.00   70.0   -1.054513   0.155308\n",
       "15   1.00  100.0   -1.097939   0.154203\n",
       "16   4.00    1.0   -3.410959   0.439555\n",
       "17   4.00    4.0   -3.481867   0.229635\n",
       "18   4.00   10.0   -3.484386   0.461813\n",
       "19   4.00   20.0   -3.721036   0.289280\n",
       "20   4.00   30.0   -3.652623   0.378231\n",
       "21   4.00   50.0   -3.962285   0.794535\n",
       "22   4.00   70.0   -4.004408   0.551621\n",
       "23   4.00  100.0   -4.636877   0.450733\n",
       "24   9.00    1.0   -8.208440   1.434114\n",
       "25   9.00    4.0   -7.909803   0.992980\n",
       "26   9.00   10.0   -8.049579   0.621712\n",
       "27   9.00   20.0   -8.581473   1.213216\n",
       "28   9.00   30.0   -7.818799   0.703581\n",
       "29   9.00   50.0   -9.920961   1.028242\n",
       "30   9.00   70.0   -7.764154   1.084008\n",
       "31   9.00  100.0   -9.049482   0.759418\n",
       "32  39.00    1.0  -37.194344   5.040980\n",
       "33  39.00    4.0  -36.215810   3.846884\n",
       "34  39.00   10.0  -36.213669   4.473398\n",
       "35  39.00   20.0  -32.158635   3.029092\n",
       "36  39.00   30.0  -42.214501   3.292175\n",
       "37  39.00   50.0  -36.567975   3.831053\n",
       "38  39.00   70.0  -39.831979   6.066343\n",
       "39  39.00  100.0  -40.010581   7.757371\n",
       "40  99.00    1.0  -94.038988  20.818186\n",
       "41  99.00    4.0  -88.600033  14.832208\n",
       "42  99.00   10.0  -90.435374  17.638021\n",
       "43  99.00   20.0  -92.892691  11.325792\n",
       "44  99.00   30.0  -89.454068   5.304022\n",
       "45  99.00   50.0 -105.166180  13.292261\n",
       "46  99.00   70.0 -103.816500  20.155206\n",
       "47  99.00  100.0 -102.116067  12.116544"
      ],
      "text/html": "<div>\n<style scoped>\n    .dataframe tbody tr th:only-of-type {\n        vertical-align: middle;\n    }\n\n    .dataframe tbody tr th {\n        vertical-align: top;\n    }\n\n    .dataframe thead th {\n        text-align: right;\n    }\n</style>\n<table border=\"1\" class=\"dataframe\">\n  <thead>\n    <tr style=\"text-align: right;\">\n      <th></th>\n      <th>p</th>\n      <th>L</th>\n      <th>res_mean</th>\n      <th>res_std</th>\n    </tr>\n  </thead>\n  <tbody>\n    <tr>\n      <th>0</th>\n      <td>0.25</td>\n      <td>1.0</td>\n      <td>-0.266697</td>\n      <td>0.039537</td>\n    </tr>\n    <tr>\n      <th>1</th>\n      <td>0.25</td>\n      <td>4.0</td>\n      <td>-0.224051</td>\n      <td>0.016760</td>\n    </tr>\n    <tr>\n      <th>2</th>\n      <td>0.25</td>\n      <td>10.0</td>\n      <td>-0.257662</td>\n      <td>0.019421</td>\n    </tr>\n    <tr>\n      <th>3</th>\n      <td>0.25</td>\n      <td>20.0</td>\n      <td>-0.241807</td>\n      <td>0.022766</td>\n    </tr>\n    <tr>\n      <th>4</th>\n      <td>0.25</td>\n      <td>30.0</td>\n      <td>-0.251493</td>\n      <td>0.024331</td>\n    </tr>\n    <tr>\n      <th>5</th>\n      <td>0.25</td>\n      <td>50.0</td>\n      <td>-0.301303</td>\n      <td>0.041520</td>\n    </tr>\n    <tr>\n      <th>6</th>\n      <td>0.25</td>\n      <td>70.0</td>\n      <td>-0.253412</td>\n      <td>0.046970</td>\n    </tr>\n    <tr>\n      <th>7</th>\n      <td>0.25</td>\n      <td>100.0</td>\n      <td>-0.253412</td>\n      <td>0.025594</td>\n    </tr>\n    <tr>\n      <th>8</th>\n      <td>1.00</td>\n      <td>1.0</td>\n      <td>-0.826356</td>\n      <td>0.093646</td>\n    </tr>\n    <tr>\n      <th>9</th>\n      <td>1.00</td>\n      <td>4.0</td>\n      <td>-0.823574</td>\n      <td>0.063262</td>\n    </tr>\n    <tr>\n      <th>10</th>\n      <td>1.00</td>\n      <td>10.0</td>\n      <td>-0.924262</td>\n      <td>0.180464</td>\n    </tr>\n    <tr>\n      <th>11</th>\n      <td>1.00</td>\n      <td>20.0</td>\n      <td>-0.972703</td>\n      <td>0.149878</td>\n    </tr>\n    <tr>\n      <th>12</th>\n      <td>1.00</td>\n      <td>30.0</td>\n      <td>-1.025079</td>\n      <td>0.123373</td>\n    </tr>\n    <tr>\n      <th>13</th>\n      <td>1.00</td>\n      <td>50.0</td>\n      <td>-1.038063</td>\n      <td>0.125563</td>\n    </tr>\n    <tr>\n      <th>14</th>\n      <td>1.00</td>\n      <td>70.0</td>\n      <td>-1.054513</td>\n      <td>0.155308</td>\n    </tr>\n    <tr>\n      <th>15</th>\n      <td>1.00</td>\n      <td>100.0</td>\n      <td>-1.097939</td>\n      <td>0.154203</td>\n    </tr>\n    <tr>\n      <th>16</th>\n      <td>4.00</td>\n      <td>1.0</td>\n      <td>-3.410959</td>\n      <td>0.439555</td>\n    </tr>\n    <tr>\n      <th>17</th>\n      <td>4.00</td>\n      <td>4.0</td>\n      <td>-3.481867</td>\n      <td>0.229635</td>\n    </tr>\n    <tr>\n      <th>18</th>\n      <td>4.00</td>\n      <td>10.0</td>\n      <td>-3.484386</td>\n      <td>0.461813</td>\n    </tr>\n    <tr>\n      <th>19</th>\n      <td>4.00</td>\n      <td>20.0</td>\n      <td>-3.721036</td>\n      <td>0.289280</td>\n    </tr>\n    <tr>\n      <th>20</th>\n      <td>4.00</td>\n      <td>30.0</td>\n      <td>-3.652623</td>\n      <td>0.378231</td>\n    </tr>\n    <tr>\n      <th>21</th>\n      <td>4.00</td>\n      <td>50.0</td>\n      <td>-3.962285</td>\n      <td>0.794535</td>\n    </tr>\n    <tr>\n      <th>22</th>\n      <td>4.00</td>\n      <td>70.0</td>\n      <td>-4.004408</td>\n      <td>0.551621</td>\n    </tr>\n    <tr>\n      <th>23</th>\n      <td>4.00</td>\n      <td>100.0</td>\n      <td>-4.636877</td>\n      <td>0.450733</td>\n    </tr>\n    <tr>\n      <th>24</th>\n      <td>9.00</td>\n      <td>1.0</td>\n      <td>-8.208440</td>\n      <td>1.434114</td>\n    </tr>\n    <tr>\n      <th>25</th>\n      <td>9.00</td>\n      <td>4.0</td>\n      <td>-7.909803</td>\n      <td>0.992980</td>\n    </tr>\n    <tr>\n      <th>26</th>\n      <td>9.00</td>\n      <td>10.0</td>\n      <td>-8.049579</td>\n      <td>0.621712</td>\n    </tr>\n    <tr>\n      <th>27</th>\n      <td>9.00</td>\n      <td>20.0</td>\n      <td>-8.581473</td>\n      <td>1.213216</td>\n    </tr>\n    <tr>\n      <th>28</th>\n      <td>9.00</td>\n      <td>30.0</td>\n      <td>-7.818799</td>\n      <td>0.703581</td>\n    </tr>\n    <tr>\n      <th>29</th>\n      <td>9.00</td>\n      <td>50.0</td>\n      <td>-9.920961</td>\n      <td>1.028242</td>\n    </tr>\n    <tr>\n      <th>30</th>\n      <td>9.00</td>\n      <td>70.0</td>\n      <td>-7.764154</td>\n      <td>1.084008</td>\n    </tr>\n    <tr>\n      <th>31</th>\n      <td>9.00</td>\n      <td>100.0</td>\n      <td>-9.049482</td>\n      <td>0.759418</td>\n    </tr>\n    <tr>\n      <th>32</th>\n      <td>39.00</td>\n      <td>1.0</td>\n      <td>-37.194344</td>\n      <td>5.040980</td>\n    </tr>\n    <tr>\n      <th>33</th>\n      <td>39.00</td>\n      <td>4.0</td>\n      <td>-36.215810</td>\n      <td>3.846884</td>\n    </tr>\n    <tr>\n      <th>34</th>\n      <td>39.00</td>\n      <td>10.0</td>\n      <td>-36.213669</td>\n      <td>4.473398</td>\n    </tr>\n    <tr>\n      <th>35</th>\n      <td>39.00</td>\n      <td>20.0</td>\n      <td>-32.158635</td>\n      <td>3.029092</td>\n    </tr>\n    <tr>\n      <th>36</th>\n      <td>39.00</td>\n      <td>30.0</td>\n      <td>-42.214501</td>\n      <td>3.292175</td>\n    </tr>\n    <tr>\n      <th>37</th>\n      <td>39.00</td>\n      <td>50.0</td>\n      <td>-36.567975</td>\n      <td>3.831053</td>\n    </tr>\n    <tr>\n      <th>38</th>\n      <td>39.00</td>\n      <td>70.0</td>\n      <td>-39.831979</td>\n      <td>6.066343</td>\n    </tr>\n    <tr>\n      <th>39</th>\n      <td>39.00</td>\n      <td>100.0</td>\n      <td>-40.010581</td>\n      <td>7.757371</td>\n    </tr>\n    <tr>\n      <th>40</th>\n      <td>99.00</td>\n      <td>1.0</td>\n      <td>-94.038988</td>\n      <td>20.818186</td>\n    </tr>\n    <tr>\n      <th>41</th>\n      <td>99.00</td>\n      <td>4.0</td>\n      <td>-88.600033</td>\n      <td>14.832208</td>\n    </tr>\n    <tr>\n      <th>42</th>\n      <td>99.00</td>\n      <td>10.0</td>\n      <td>-90.435374</td>\n      <td>17.638021</td>\n    </tr>\n    <tr>\n      <th>43</th>\n      <td>99.00</td>\n      <td>20.0</td>\n      <td>-92.892691</td>\n      <td>11.325792</td>\n    </tr>\n    <tr>\n      <th>44</th>\n      <td>99.00</td>\n      <td>30.0</td>\n      <td>-89.454068</td>\n      <td>5.304022</td>\n    </tr>\n    <tr>\n      <th>45</th>\n      <td>99.00</td>\n      <td>50.0</td>\n      <td>-105.166180</td>\n      <td>13.292261</td>\n    </tr>\n    <tr>\n      <th>46</th>\n      <td>99.00</td>\n      <td>70.0</td>\n      <td>-103.816500</td>\n      <td>20.155206</td>\n    </tr>\n    <tr>\n      <th>47</th>\n      <td>99.00</td>\n      <td>100.0</td>\n      <td>-102.116067</td>\n      <td>12.116544</td>\n    </tr>\n  </tbody>\n</table>\n</div>"
     },
     "metadata": {},
     "execution_count": 34
    }
   ],
   "source": [
    "ppo_res"
   ]
  },
  {
   "cell_type": "code",
   "execution_count": null,
   "id": "animated-active",
   "metadata": {
    "tags": []
   },
   "outputs": [],
   "source": [
    "#continuous model try with cont action\n",
    "\n",
    "#env = make_vec_env('inventory_cont_model-v0', ContCONFIG = {'h': 1, 'p': 1, 'L': 10, 'lambda': 1}, n_envs=4)\n",
    "#how to set parameters???\n",
    "cont_env = make_vec_env('inventory_cont_model-v0', n_envs=8)\n",
    "cont_model = PPO(MlpPolicy, cont_env, verbose=1, gamma = 1)\n",
    "cont_model.learn(total_timesteps=200000)\n",
    "# fixed issue with vector, now action can be continuous\n",
    "\n",
    "#continuous evaluation\n",
    "cont_model.save(\"inv_cont_1\")\n",
    "trained_model = PPO.load(\"inv_cont_1\")\n",
    "env1 = gym.make('inventory_cont_model-v0')\n",
    "numiter = 50000\n",
    "res_mean, res_std = ppo_evaluate(trained_model, env1, numiter)\n",
    "print(-res_mean,'+/=',1.96*res_std/np.sqrt(5)) "
   ]
  },
  {
   "cell_type": "code",
   "execution_count": null,
   "id": "sharing-light",
   "metadata": {},
   "outputs": [],
   "source": [
    "#Discrete environment\n",
    "#h=1,p=99,L=1,max_inventory=100,max_action=100,binomial(6,0.5)\n",
    "env = make_vec_env('inventory_model-v0', n_envs=4)\n",
    "model = PPO(MlpPolicy, env, verbose=1, gamma = 1)\n",
    "model.learn(total_timesteps=1000000)\n",
    "model.save(\"inv_2\")\n",
    "\n",
    "trained_model2 = PPO.load(\"inv_2\")\n",
    "env2 = gym.make('inventory_model-v0')\n",
    "numiter = 200000\n",
    "res_mean, res_std = ppo_evaluate(trained_model2, env2, numiter)\n",
    "print(-res_mean,'+/=',1.96*res_std/np.sqrt(5)) "
   ]
  },
  {
   "cell_type": "code",
   "execution_count": null,
   "id": "bigger-polymer",
   "metadata": {},
   "outputs": [],
   "source": [
    "#Discrete environment 2\n",
    "#h=1,p=99,L=1,max_inventory=100,max_action=6,binomial(6,0.5)\n",
    "env = make_vec_env('inventory_model-v0', n_envs=4)\n",
    "model = PPO(MlpPolicy, env, verbose=1, gamma = 1)\n",
    "model.learn(total_timesteps=1000000)\n",
    "model.save(\"inv_3\")\n",
    "\n",
    "#set action space to be small([0,1,2,3,4,5,6]) seems to get reasonable results...\n",
    "trained_model3 = PPO.load(\"inv_3\")\n",
    "env3 = gym.make('inventory_model-v0')\n",
    "numiter = 200000\n",
    "res_mean, res_std = ppo_evaluate(trained_model3, env3, numiter)\n",
    "print(-res_mean,'+/=',1.96*res_std/np.sqrt(5)) "
   ]
  }
 ],
 "metadata": {
  "kernelspec": {
   "name": "python385jvsc74a57bd0400ed83044f7563fd7639db7272bee8996ca0c865b5d449dcecadc3765d7cb7d",
   "display_name": "Python 3.8.5 64-bit ('base': conda)"
  },
  "language_info": {
   "codemirror_mode": {
    "name": "ipython",
    "version": 3
   },
   "file_extension": ".py",
   "mimetype": "text/x-python",
   "name": "python",
   "nbconvert_exporter": "python",
   "pygments_lexer": "ipython3",
   "version": "3.8.5"
  }
 },
 "nbformat": 4,
 "nbformat_minor": 5
}