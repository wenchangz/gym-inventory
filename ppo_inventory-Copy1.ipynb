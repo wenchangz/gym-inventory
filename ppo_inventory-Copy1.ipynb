{
 "cells": [
  {
   "cell_type": "code",
   "execution_count": 1,
   "metadata": {},
   "outputs": [],
   "source": [
    "import gym\n",
    "import numpy as np\n",
    "import inventory_model\n",
    "import pandas as pd\n",
    "from evaluate import *\n",
    "from ppo_evaluate import ppo_evaluate\n",
    "import matplotlib.pyplot as plt\n",
    "\n",
    "\n",
    "from stable_baselines3 import PPO\n",
    "from stable_baselines3.ppo import MlpPolicy\n",
    "from stable_baselines3.common.env_util import make_vec_env"
   ]
  },
  {
   "cell_type": "code",
   "execution_count": 2,
   "metadata": {},
   "outputs": [],
   "source": [
    "import os\n",
    "os.environ['KMP_DUPLICATE_LIB_OK']='True'"
   ]
  },
  {
   "cell_type": "code",
   "execution_count": 3,
   "metadata": {},
   "outputs": [],
   "source": [
    "#wrapper for cont env with PPO, plot result for several steps\n",
    "def ppo_eval_interval(p, L, t_t, n_iter, n_step, gae, learning_rate=0.0003):\n",
    "    ContCONFIG = {'h': 1, 'p': p, 'L': L, 'lambda': 1}\n",
    "    cont_env = make_vec_env('inventory_cont_config_fix_model-v0', n_envs=4, env_kwargs=ContCONFIG)\n",
    "    print(\"Running PPO w/: p=\", p, \", L=\",L)\n",
    "    cont_model = PPO(MlpPolicy, cont_env, verbose=0, gamma = 1, gae_lambda=gae,\n",
    "                     learning_rate = learning_rate,use_sde = False, n_steps = n_step)\n",
    "    env_eval = make_vec_env('inventory_cont_config_fix_model-v0', n_envs=1, env_kwargs=ContCONFIG)\n",
    "    timesteps = 0\n",
    "    numiter = n_iter#test\n",
    "    res_mean_arr = []\n",
    "    res_std_arr = []\n",
    "\n",
    "    while(timesteps <= t_t):\n",
    "\n",
    "        cont_model.learn(total_timesteps=2*4*n_step-1)#each iteration has 8192 timesteps with n_env=4\n",
    "        timesteps = timesteps + 2*4*n_step\n",
    "\n",
    "        res_mean, res_std = ppo_evaluate(cont_model, env_eval, numiter)\n",
    "        res_mean_arr.append(-res_mean)\n",
    "        res_std_arr.append(res_std)\n",
    "        \n",
    "        if -res_mean == min(res_mean_arr):\n",
    "            cont_model.save(\"ppo_min_model_\"+str(p)+\"_\"+str(L))\n",
    "        \n",
    "#         print(res_mean_arr)\n",
    "    \n",
    "    plt.plot(res_mean_arr)\n",
    "    plt.xlabel(\"Iteration\")\n",
    "    plt.ylabel(\"Average cost\")\n",
    "    plt.title(\"L=\"+str(L)+\", p=\"+str(p))\n",
    "    \n",
    "    min_model = PPO.load(\"ppo_min_model\"+str(p)+\"_\"+str(L))\n",
    "    mean_min, std_min = ppo_evaluate(min_model, env_eval, 10000)\n",
    "    print(\"p=\"+str(p)+\"， L=\"+str(L)+\": mean \"+str(-mean_min)+\", std_dev: \"+str(std_min))\n",
    "    \n",
    "    return res_mean_arr, res_std_arr, mean_min, std_min"
   ]
  },
  {
   "cell_type": "code",
   "execution_count": null,
   "metadata": {
    "tags": []
   },
   "outputs": [
    {
     "name": "stdout",
     "output_type": "stream",
     "text": [
      "Running PPO w/: p= 4 , L= 50\n"
     ]
    }
   ],
   "source": [
    "# listp = [0.25,1,4,9,39,99]\n",
    "# listL = [30,50,10,20]\n",
    "listp = [4]\n",
    "listL = [50]\n",
    "# t_t = 100000\n",
    "n_iter = 1000\n",
    "gae_lambda = 0.95\n",
    "# n_step = 8192\n",
    "learning_rate = 0.0003\n",
    "ppo_res = pd.DataFrame(columns = ['p','L','res_mean', 'res_std'])\n",
    "\n",
    "for p in listp:\n",
    "    for L in listL:\n",
    "        n_step = 64*L \n",
    "        t_t = 200*4*n_step\n",
    "        res_mean, res_std, mean_min, std_min = ppo_eval_interval(p,L,t_t, n_iter, n_step, gae_lambda, learning_rate)\n",
    "        ppo_res = ppo_res.append({'p': p, 'L':L, 'res_mean':mean_min, 'res_std': std_min}, ignore_index=True)"
   ]
  },
  {
   "cell_type": "code",
   "execution_count": null,
   "metadata": {},
   "outputs": [],
   "source": [
    "ppo_res"
   ]
  },
  {
   "cell_type": "code",
   "execution_count": null,
   "metadata": {
    "scrolled": true
   },
   "outputs": [],
   "source": [
    "plt.plot(res_mean)"
   ]
  },
  {
   "cell_type": "markdown",
   "metadata": {},
   "source": [
    "## Below is obsolete."
   ]
  }
 ],
 "metadata": {
  "kernelspec": {
   "display_name": "Python 3",
   "language": "python",
   "name": "python3"
  },
  "language_info": {
   "codemirror_mode": {
    "name": "ipython",
    "version": 3
   },
   "file_extension": ".py",
   "mimetype": "text/x-python",
   "name": "python",
   "nbconvert_exporter": "python",
   "pygments_lexer": "ipython3",
   "version": "3.8.5"
  }
 },
 "nbformat": 4,
 "nbformat_minor": 5
}
