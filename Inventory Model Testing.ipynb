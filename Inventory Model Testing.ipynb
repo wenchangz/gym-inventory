{
 "cells": [
  {
   "cell_type": "code",
   "execution_count": 1,
   "metadata": {},
   "outputs": [],
   "source": [
    "import gym\n",
    "import numpy as np\n",
    "import inventory_model\n",
    "from evaluate import *"
   ]
  },
  {
   "cell_type": "code",
   "execution_count": 2,
   "metadata": {},
   "outputs": [],
   "source": [
    "CONFIG = {'h': 1, 'p': 1, 'L': 10, 'max_demand': 6, 'max_inventory': 100}\n",
    "ContCONFIG = {'h': 1, 'p': 1, 'L': 10, 'lambda': 1}"
   ]
  },
  {
   "cell_type": "code",
   "execution_count": 3,
   "metadata": {
    "scrolled": true
   },
   "outputs": [],
   "source": [
    "env = gym.make('inventory_model-v0', config=CONFIG)\n",
    "cont_env = gym.make('inventory_cont_model-v0', config=ContCONFIG)"
   ]
  },
  {
   "cell_type": "code",
   "execution_count": 4,
   "metadata": {},
   "outputs": [
    {
     "name": "stdout",
     "output_type": "stream",
     "text": [
      "[0 0 0 0 0 0 0 0 0 0 0]\n",
      "Discrete(101)\n",
      "MultiDiscrete([101 101 101 101 101 101 101 101 101 101 101])\n",
      "[0 0 0 0 0 0 0 0 0 0 0]\n",
      "Box(0.0, inf, (1, 1), float32)\n",
      "Box(0.0, inf, (11, 1), float32)\n"
     ]
    }
   ],
   "source": [
    "print(env.state)\n",
    "print(env.action_space)\n",
    "print(env.observation_space) # openAI calles states observations :/\n",
    "\n",
    "print(cont_env.state)\n",
    "print(cont_env.action_space)\n",
    "print(cont_env.observation_space)"
   ]
  },
  {
   "cell_type": "code",
   "execution_count": 5,
   "metadata": {},
   "outputs": [
    {
     "name": "stdout",
     "output_type": "stream",
     "text": [
      "[[0.06502642]]\n",
      "66\n",
      "***\n",
      "(array([0, 0, 0, 0, 0, 0, 0, 0, 0, 0, 1]), -4)\n",
      "***\n",
      "(array([0, 0, 0, 0, 0, 0, 0, 0, 0, 0, 1]), array([-1.5902926]))\n",
      "***\n"
     ]
    }
   ],
   "source": [
    "print(cont_env.action_space.sample())\n",
    "print(env.action_space.sample())\n",
    "print('***')\n",
    "\n",
    "env.state = np.array([0]*(CONFIG['L']+1))\n",
    "print(env.step(1))\n",
    "print('***')\n",
    "\n",
    "cont_env.state = np.array([0]*(CONFIG['L']+1))\n",
    "print(cont_env.step(np.array([[1.0]])))\n",
    "print('***')"
   ]
  },
  {
   "cell_type": "markdown",
   "metadata": {},
   "source": [
    "The following cell defines the random policy model and the constant policy model, and then calls the evaluate function. When ordering constant 1 or 2, the policy is stable."
   ]
  },
  {
   "cell_type": "code",
   "execution_count": 6,
   "metadata": {},
   "outputs": [],
   "source": [
    "def random_model(env):\n",
    "    def policy(state):\n",
    "        return env.action_space.sample()\n",
    "    return policy"
   ]
  },
  {
   "cell_type": "code",
   "execution_count": 7,
   "metadata": {},
   "outputs": [
    {
     "name": "stdout",
     "output_type": "stream",
     "text": [
      "discrete state space with Bernoulli demand under random policy:\n",
      "mean:  -99.38785\n",
      "standard deviation: 0.03376836537352638\n",
      "\n",
      "continuous state space with Exp(1) demand under random policy:\n",
      "mean:  -0.9844401595885601\n",
      "standard deviation: 0.03346088702510928\n",
      "\n",
      "discrete state space under constant 1 order policy:\n",
      "mean:  -2.03905\n",
      "standard deviation: 0.0289537994052594\n",
      "\n",
      "discrete state space under constant 2 order policy:\n",
      "mean:  -1.3386\n",
      "standard deviation: 0.02629144347501675\n",
      "\n",
      "discrete state space under constant 3 order policy:\n",
      "mean:  -24.728599999999997\n",
      "standard deviation: 11.545075566664776\n",
      "\n",
      "discrete state space under constant 4 order policy:\n",
      "mean:  -96.91569999999999\n",
      "standard deviation: 0.3540352524820092\n",
      "\n",
      "discrete state space under constant 5 order policy:\n",
      "mean:  -98.27284999999999\n",
      "standard deviation: 0.15121789741958386\n",
      "\n",
      "continuous state space under constant 1 order policy:\n",
      "mean:  -0.37452468899018043\n",
      "standard deviation: 0.016850968559312555\n",
      "\n",
      "continuous state space under constant 2 order policy:\n",
      "mean:  -415.1813143428564\n",
      "standard deviation: 25.44266872306994\n",
      "\n"
     ]
    }
   ],
   "source": [
    "numiter = 2000\n",
    "print ('discrete state space with Bernoulli demand under random policy:')\n",
    "evaluate(random_model, env, numiter)\n",
    "print()\n",
    "print ('continuous state space with Exp(1) demand under random policy:')\n",
    "evaluate(random_model, cont_env, numiter)\n",
    "print()\n",
    "\n",
    "for i in range(1,6):\n",
    "    def constant_model(env):\n",
    "        def policy(state):\n",
    "            return i\n",
    "        return policy\n",
    "    print ('discrete state space under constant %s order policy:' %i)\n",
    "    evaluate(constant_model, env, numiter)\n",
    "    print()\n",
    "    \n",
    "for i in range(1,3):\n",
    "    def constant_model(env):\n",
    "        def policy(state):\n",
    "            return np.array([[i]])\n",
    "        return policy\n",
    "    print ('continuous state space under constant %s order policy:' %i)\n",
    "    evaluate(constant_model, cont_env, numiter)\n",
    "    print()"
   ]
  }
 ],
 "metadata": {
  "kernelspec": {
   "display_name": "Python 3",
   "language": "python",
   "name": "python3"
  },
  "language_info": {
   "codemirror_mode": {
    "name": "ipython",
    "version": 3
   },
   "file_extension": ".py",
   "mimetype": "text/x-python",
   "name": "python",
   "nbconvert_exporter": "python",
   "pygments_lexer": "ipython3",
   "version": "3.8.5"
  }
 },
 "nbformat": 4,
 "nbformat_minor": 5
}
