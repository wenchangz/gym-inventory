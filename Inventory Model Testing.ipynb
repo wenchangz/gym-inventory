{
 "cells": [
  {
   "cell_type": "code",
   "execution_count": 1,
   "id": "ranking-project",
   "metadata": {},
   "outputs": [],
   "source": [
    "import gym\n",
    "import numpy as np\n",
    "import inventory_model\n",
    "from evaluate import *"
   ]
  },
  {
   "cell_type": "code",
   "execution_count": 18,
   "id": "protected-cedar",
   "metadata": {},
   "outputs": [],
   "source": [
    "# CONFIG = {'h': 1, 'p': 1, 'L': 10, 'max_demand': 6, 'max_inventory': 100}\n",
    "ContCONFIG = {'h': 1, 'p': 1, 'L': 100, 'lambda': 10}"
   ]
  },
  {
   "cell_type": "code",
   "execution_count": 19,
   "id": "express-hands",
   "metadata": {
    "scrolled": true
   },
   "outputs": [],
   "source": [
    "# env = gym.make('inventory_model-v0', config=CONFIG)\n",
    "cont_env = gym.make('inventory_cont_config_model-v0', config=ContCONFIG)"
   ]
  },
  {
   "cell_type": "code",
   "execution_count": 5,
   "id": "minus-preserve",
   "metadata": {},
   "outputs": [
    {
     "output_type": "error",
     "ename": "NameError",
     "evalue": "name 'env' is not defined",
     "traceback": [
      "\u001b[0;31m---------------------------------------------------------------------------\u001b[0m",
      "\u001b[0;31mNameError\u001b[0m                                 Traceback (most recent call last)",
      "\u001b[0;32m<ipython-input-5-fac9320be5a5>\u001b[0m in \u001b[0;36m<module>\u001b[0;34m\u001b[0m\n\u001b[0;32m----> 1\u001b[0;31m \u001b[0mprint\u001b[0m\u001b[0;34m(\u001b[0m\u001b[0menv\u001b[0m\u001b[0;34m.\u001b[0m\u001b[0mstate\u001b[0m\u001b[0;34m)\u001b[0m\u001b[0;34m\u001b[0m\u001b[0;34m\u001b[0m\u001b[0m\n\u001b[0m\u001b[1;32m      2\u001b[0m \u001b[0mprint\u001b[0m\u001b[0;34m(\u001b[0m\u001b[0menv\u001b[0m\u001b[0;34m.\u001b[0m\u001b[0maction_space\u001b[0m\u001b[0;34m)\u001b[0m\u001b[0;34m\u001b[0m\u001b[0;34m\u001b[0m\u001b[0m\n\u001b[1;32m      3\u001b[0m \u001b[0mprint\u001b[0m\u001b[0;34m(\u001b[0m\u001b[0menv\u001b[0m\u001b[0;34m.\u001b[0m\u001b[0mobservation_space\u001b[0m\u001b[0;34m)\u001b[0m \u001b[0;31m# openAI calles states observations :/\u001b[0m\u001b[0;34m\u001b[0m\u001b[0;34m\u001b[0m\u001b[0m\n\u001b[1;32m      4\u001b[0m \u001b[0;34m\u001b[0m\u001b[0m\n\u001b[1;32m      5\u001b[0m \u001b[0mprint\u001b[0m\u001b[0;34m(\u001b[0m\u001b[0mcont_env\u001b[0m\u001b[0;34m.\u001b[0m\u001b[0mstate\u001b[0m\u001b[0;34m)\u001b[0m\u001b[0;34m\u001b[0m\u001b[0;34m\u001b[0m\u001b[0m\n",
      "\u001b[0;31mNameError\u001b[0m: name 'env' is not defined"
     ]
    }
   ],
   "source": [
    "print(env.state)\n",
    "print(env.action_space)\n",
    "print(env.observation_space) # openAI calles states observations :/\n",
    "\n",
    "print(cont_env.state)\n",
    "print(cont_env.action_space)\n",
    "print(cont_env.observation_space)"
   ]
  },
  {
   "cell_type": "code",
   "execution_count": 5,
   "id": "bridal-terrorism",
   "metadata": {},
   "outputs": [
    {
     "name": "stdout",
     "output_type": "stream",
     "text": [
      "[[0.06502642]]\n",
      "66\n",
      "***\n",
      "(array([0, 0, 0, 0, 0, 0, 0, 0, 0, 0, 1]), -4)\n",
      "***\n",
      "(array([0, 0, 0, 0, 0, 0, 0, 0, 0, 0, 1]), array([-1.5902926]))\n",
      "***\n"
     ]
    }
   ],
   "source": [
    "print(cont_env.action_space.sample())\n",
    "print(env.action_space.sample())\n",
    "print('***')\n",
    "\n",
    "env.state = np.array([0]*(CONFIG['L']+1))\n",
    "print(env.step(1))\n",
    "print('***')\n",
    "\n",
    "cont_env.state = np.array([0]*(CONFIG['L']+1))\n",
    "print(cont_env.step(np.array([[1.0]])))\n",
    "print('***')"
   ]
  },
  {
   "cell_type": "markdown",
   "id": "subjective-intelligence",
   "metadata": {},
   "source": [
    "The following cell defines the random policy model and the constant policy model, and then calls the evaluate function. When ordering constant 1 or 2, the policy is stable."
   ]
  },
  {
   "cell_type": "code",
   "execution_count": 13,
   "id": "biological-brave",
   "metadata": {},
   "outputs": [],
   "source": [
    "def random_model(env):\n",
    "    def policy(state):\n",
    "        return env.action_space.sample()\n",
    "    return policy"
   ]
  },
  {
   "cell_type": "code",
   "execution_count": 20,
   "id": "furnished-sword",
   "metadata": {},
   "outputs": [
    {
     "output_type": "stream",
     "name": "stdout",
     "text": [
      "continuous state space under constant 1 order policy:\n",
      "mean:  -9.026480432752704\n",
      "standard deviation: 0.055834604788925005\n",
      "\n",
      "continuous state space under constant 2 order policy:\n",
      "mean:  -8.297885408697493\n",
      "standard deviation: 0.05639294073634917\n",
      "\n",
      "continuous state space under constant 3 order policy:\n",
      "mean:  -7.821567241338549\n",
      "standard deviation: 0.05139048188596003\n",
      "\n",
      "continuous state space under constant 4 order policy:\n",
      "mean:  -7.621943985039854\n",
      "standard deviation: 0.09252723960336043\n",
      "\n",
      "continuous state space under constant 5 order policy:\n",
      "mean:  -7.7367333895591575\n",
      "standard deviation: 0.0781023820851901\n",
      "\n",
      "continuous state space under constant 6 order policy:\n",
      "mean:  -8.5918131809727\n",
      "standard deviation: 0.07803698347007665\n",
      "\n",
      "continuous state space under constant 7 order policy:\n",
      "mean:  -10.499802243610903\n",
      "standard deviation: 0.21151443281528828\n",
      "\n",
      "continuous state space under constant 8 order policy:\n",
      "mean:  -14.59598515939876\n",
      "standard deviation: 0.3172513009221141\n",
      "\n"
     ]
    }
   ],
   "source": [
    "numiter = 20000\n",
    "# print ('discrete state space with Bernoulli demand under random policy:')\n",
    "# evaluate(random_model, env, numiter)\n",
    "# print()\n",
    "# print ('continuous state space with Exp(1) demand under random policy:')\n",
    "# evaluate(random_model, cont_env, numiter)\n",
    "# print()\n",
    "\n",
    "# for i in range(1,6):\n",
    "#     def constant_model(env):\n",
    "#         def policy(state):\n",
    "#             return i\n",
    "#         return policy\n",
    "#     print ('discrete state space under constant %s order policy:' %i)\n",
    "#     evaluate(constant_model, env, numiter)\n",
    "#     print()\n",
    "    \n",
    "for i in range(1,9):\n",
    "    def constant_model(env):\n",
    "        def policy(state):\n",
    "            # return np.array([[i]])\n",
    "            return i\n",
    "        return policy\n",
    "    print ('continuous state space under constant %s order policy:' %i)\n",
    "    evaluate(constant_model, cont_env, numiter)\n",
    "    print()"
   ]
  },
  {
   "cell_type": "code",
   "execution_count": null,
   "metadata": {},
   "outputs": [],
   "source": []
  }
 ],
 "metadata": {
  "kernelspec": {
   "name": "python385jvsc74a57bd0400ed83044f7563fd7639db7272bee8996ca0c865b5d449dcecadc3765d7cb7d",
   "display_name": "Python 3.8.5 64-bit ('base': conda)"
  },
  "language_info": {
   "codemirror_mode": {
    "name": "ipython",
    "version": 3
   },
   "file_extension": ".py",
   "mimetype": "text/x-python",
   "name": "python",
   "nbconvert_exporter": "python",
   "pygments_lexer": "ipython3",
   "version": "3.8.5"
  }
 },
 "nbformat": 4,
 "nbformat_minor": 5
}